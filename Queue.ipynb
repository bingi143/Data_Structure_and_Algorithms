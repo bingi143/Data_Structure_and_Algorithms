{
 "cells": [
  {
   "cell_type": "markdown",
   "metadata": {},
   "source": [
    "                     Queue"
   ]
  },
  {
   "cell_type": "markdown",
   "metadata": {},
   "source": [
    "'''<br>\n",
    "\n",
    "@Author: Venkatesh <br>\n",
    "@Date: 2024-09-06 18:00:30 <br>\n",
    "@Last Modified by: Venkatesh <br>\n",
    "@Last Modified time: 2024-09-06\n",
    "18:00:30 <br>\n",
    "@Title : Programs on Queue  <br>\n",
    "\n",
    "''' "
   ]
  },
  {
   "cell_type": "code",
   "execution_count": 13,
   "metadata": {},
   "outputs": [],
   "source": [
    "from collections import deque"
   ]
  },
  {
   "cell_type": "markdown",
   "metadata": {},
   "source": [
    "     Queue implimentation"
   ]
  },
  {
   "cell_type": "code",
   "execution_count": 14,
   "metadata": {},
   "outputs": [
    {
     "name": "stdout",
     "output_type": "stream",
     "text": [
      "11 added\n",
      "12 added\n",
      "13 added\n",
      "14 added\n",
      "queue is: [11, 12, 13, 14]\n",
      "removed item: 11\n",
      "3\n"
     ]
    }
   ],
   "source": [
    "class Queue:\n",
    "\n",
    "    def __init__(self):\n",
    "        self.queue=[]\n",
    "\n",
    "    def enqueue(self,item):\n",
    "        '''\n",
    "          Description: \n",
    "                this function is adding item to queue\n",
    "          Parameters: \n",
    "                item: item \n",
    "          Return : \n",
    "                Return added item\n",
    "        '''\n",
    "        self.queue.append(item)\n",
    "        print(f\"{item} added\")\n",
    "\n",
    "\n",
    "    def is_empty(self):\n",
    "        '''\n",
    "          Description: \n",
    "                this function is identify queue is empty or not\n",
    "          Parameters: \n",
    "                None\n",
    "          Return : \n",
    "                Return True and false \n",
    "        '''\n",
    "        return len(self.queue)==0\n",
    "\n",
    "\n",
    "    def dequeue(self):\n",
    "        '''\n",
    "          Description: \n",
    "                this function is removing item from queue\n",
    "          Parameters: \n",
    "                None \n",
    "          Return : \n",
    "                Return removed item\n",
    "        '''\n",
    "        if not self.is_empty():\n",
    "            return self.queue.pop(0)\n",
    "            \n",
    "        else:\n",
    "            return \"Queue is empty\"\n",
    "        \n",
    "    def size(self):\n",
    "        '''\n",
    "          Description: \n",
    "                this function is getting size of queue\n",
    "          Parameters: \n",
    "                None \n",
    "          Return : \n",
    "                Return the size of queue\n",
    "        '''\n",
    "        return len(self.queue)\n",
    "    \n",
    "\n",
    "def main():\n",
    "    queue_1=Queue()\n",
    "    queue_1.enqueue(11)\n",
    "    queue_1.enqueue(12)\n",
    "    queue_1.enqueue(13)\n",
    "    queue_1.enqueue(14)\n",
    "    print(\"queue is:\",queue_1.queue)\n",
    "    print(\"removed item:\",queue_1.dequeue())\n",
    "    print(queue_1.size())\n",
    "\n",
    "\n",
    "if __name__==\"__main__\":\n",
    "    main()\n",
    "        \n"
   ]
  },
  {
   "cell_type": "markdown",
   "metadata": {},
   "source": [
    "2.Implement a Queue using Two Stacks"
   ]
  },
  {
   "cell_type": "code",
   "execution_count": 15,
   "metadata": {},
   "outputs": [
    {
     "name": "stdout",
     "output_type": "stream",
     "text": [
      "[11, 12, 13, 14]\n",
      "11\n",
      "Queue is empty\n",
      "True\n",
      "[14, 13, 12]\n"
     ]
    }
   ],
   "source": [
    "class Queue:\n",
    "\n",
    "    def __init__(self):\n",
    "        self.stack_1=[]\n",
    "        self.stack_2=[]\n",
    "\n",
    "    def enqueue(self,item):\n",
    "        '''\n",
    "          Description: \n",
    "                this function is adding item to queue\n",
    "          Parameters: \n",
    "                item: item \n",
    "          Return : \n",
    "                Return added item\n",
    "        '''\n",
    "        self.stack_1.append(item)\n",
    "        \n",
    "\n",
    "\n",
    "    def is_empty(self):\n",
    "        '''\n",
    "          Description: \n",
    "                this function is identify queue is empty or not\n",
    "          Parameters: \n",
    "                None\n",
    "          Return : \n",
    "                Return True and false \n",
    "        '''\n",
    "        return len(self.stack_1)==0\n",
    "    \n",
    "    def dequeue(self):\n",
    "        '''\n",
    "          Description: \n",
    "                this function is transfer the elements stack_1 to stack_2\n",
    "          Parameters: \n",
    "                None\n",
    "          Return : \n",
    "                Return True and false \n",
    "        '''\n",
    "        if self.is_empty():\n",
    "            return \"Queue is empty\"\n",
    "        \n",
    "        if not self.stack_2:\n",
    "            while self.stack_1:\n",
    "                self.stack_2.append(self.stack_1.pop())\n",
    "\n",
    "        return self.stack_2.pop()\n",
    "    \n",
    "def main():\n",
    "    queue_1=Queue()\n",
    "    queue_1.enqueue(11)\n",
    "    queue_1.enqueue(12)\n",
    "    queue_1.enqueue(13)\n",
    "    queue_1.enqueue(14)\n",
    "    print(queue_1.stack_1)\n",
    "    print(queue_1.dequeue())\n",
    "    print(queue_1.dequeue())\n",
    "    print(queue_1.is_empty())\n",
    "    print(queue_1.stack_2)\n",
    "\n",
    "\n",
    "if __name__==\"__main__\":\n",
    "    main()\n"
   ]
  },
  {
   "cell_type": "markdown",
   "metadata": {},
   "source": [
    "2.Reverse the first k elements "
   ]
  },
  {
   "cell_type": "code",
   "execution_count": 16,
   "metadata": {},
   "outputs": [
    {
     "name": "stdout",
     "output_type": "stream",
     "text": [
      "before reversing: deque([10, 20, 30, 40, 50, 60])\n",
      "after reversing: [30, 20, 10, 40, 50, 60]\n"
     ]
    }
   ],
   "source": [
    "def reverse_first_k_elements(queue,k):\n",
    "    '''\n",
    "          Description: \n",
    "                this function is reversing first k values in queue\n",
    "          Parameters: \n",
    "                None\n",
    "          Return : \n",
    "                Returning after first k values reversing\n",
    "        '''\n",
    "    if k>len(queue):\n",
    "        return \"Invalid value of k\"\n",
    "    \n",
    "    stack=[]\n",
    "    for item in range(k):\n",
    "        stack.append(queue.popleft())\n",
    "\n",
    "    while stack:\n",
    "        queue.append(stack.pop())\n",
    "\n",
    "    size=len(queue)\n",
    "\n",
    "    for item in range(size-k):\n",
    "        queue.append(queue.popleft())\n",
    "\n",
    "    return list(queue)\n",
    "\n",
    "\n",
    "def main():\n",
    "    queue=deque([10,20,30,40,50,60])\n",
    "    k=3\n",
    "    print(\"before reversing:\",queue)\n",
    "    print(\"after reversing:\",reverse_first_k_elements(queue,k))\n",
    "\n",
    "\n",
    "if __name__==\"__main__\":\n",
    "    main()\n",
    "\n"
   ]
  }
 ],
 "metadata": {
  "kernelspec": {
   "display_name": "Python 3",
   "language": "python",
   "name": "python3"
  },
  "language_info": {
   "codemirror_mode": {
    "name": "ipython",
    "version": 3
   },
   "file_extension": ".py",
   "mimetype": "text/x-python",
   "name": "python",
   "nbconvert_exporter": "python",
   "pygments_lexer": "ipython3",
   "version": "3.10.4"
  }
 },
 "nbformat": 4,
 "nbformat_minor": 2
}
