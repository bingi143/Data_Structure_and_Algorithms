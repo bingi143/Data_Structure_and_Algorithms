{
 "cells": [
  {
   "cell_type": "markdown",
   "metadata": {},
   "source": [
    "                Trees implimentation"
   ]
  },
  {
   "cell_type": "markdown",
   "metadata": {},
   "source": [
    "'''<br>\n",
    "\n",
    "@Author: Venkatesh <br>\n",
    "@Date: 2024-09-06 18:00:30 <br>\n",
    "@Last Modified by: Venkatesh <br>\n",
    "@Last Modified time: 2024-09-06\n",
    "18:00:30 <br>\n",
    "@Title : Programs on trees  <br>\n",
    "\n",
    "''' "
   ]
  },
  {
   "cell_type": "markdown",
   "metadata": {},
   "source": [
    "Binary Tree implementation"
   ]
  },
  {
   "cell_type": "code",
   "execution_count": 3,
   "metadata": {},
   "outputs": [
    {
     "name": "stdout",
     "output_type": "stream",
     "text": [
      "3 5 7 10 15 20 25 :-Inorder None\n",
      "10 5 3 7 20 15 25 :-pre oreder None\n",
      "3 7 5 15 25 20 10 :-post order None\n"
     ]
    }
   ],
   "source": [
    "class Node:\n",
    "    def __init__(self, data):\n",
    "        self.data = data\n",
    "        self.left = None\n",
    "        self.right = None\n",
    "\n",
    "def insert(root,data):\n",
    "    '''\n",
    "          Description: \n",
    "                this function is inserting daata into root\n",
    "          Parameters: \n",
    "                root: particular root \n",
    "                data: data insert into the tree root\n",
    "          Return : \n",
    "                Return root\n",
    "        '''\n",
    "    if root is None:\n",
    "        return Node(data)\n",
    "    else:\n",
    "        if data < root.data:\n",
    "            root.left=insert(root.left,data)\n",
    "\n",
    "        else:\n",
    "            root.right=insert(root.right,data)\n",
    "\n",
    "    return root\n",
    "\n",
    "def in_order(root):\n",
    "    '''\n",
    "          Description: \n",
    "                this function is detting the order of roots left,root,right\n",
    "          Parameters: \n",
    "                root: particular root \n",
    "          Return : \n",
    "                None\n",
    "        '''\n",
    "    if root:\n",
    "        in_order(root.left)\n",
    "        print(root.data,end=\" \")\n",
    "        in_order(root.right)\n",
    "\n",
    "def pre_order(root):\n",
    "    '''\n",
    "          Description: \n",
    "                this function is detting the order of roots root,left,right\n",
    "          Parameters: \n",
    "                root: particular root \n",
    "          Return : \n",
    "                None\n",
    "        '''\n",
    "    if root:\n",
    "        print(root.data,end=\" \")\n",
    "        pre_order(root.left)\n",
    "        pre_order(root.right)\n",
    "\n",
    "def post_order(root):\n",
    "    '''\n",
    "          Description: \n",
    "                this function is detting the order of roots left,right,root\n",
    "          Parameters: \n",
    "                root: particular root \n",
    "          Return : \n",
    "                None\n",
    "    '''\n",
    "    if root:\n",
    "        post_order(root.left)\n",
    "        post_order(root.right)\n",
    "        print(root.data,end=\" \")\n",
    "\n",
    "\n",
    "def main():\n",
    "    root=None\n",
    "    values=[10,5,20,7,3,25,15]\n",
    "\n",
    "    for value in values:\n",
    "        root=insert(root,value)\n",
    "\n",
    "    print(\":-Inorder\",in_order(root))\n",
    "\n",
    "    print(\":-pre oreder\",pre_order(root))\n",
    "\n",
    "    print(\":-post order\",post_order(root))\n",
    "\n",
    "\n",
    "if __name__==\"__main__\":\n",
    "    main()\n"
   ]
  },
  {
   "cell_type": "markdown",
   "metadata": {},
   "source": [
    "1.Find the height of a binary tree"
   ]
  },
  {
   "cell_type": "code",
   "execution_count": 4,
   "metadata": {},
   "outputs": [
    {
     "name": "stdout",
     "output_type": "stream",
     "text": [
      "Height of the tree is: 2\n"
     ]
    }
   ],
   "source": [
    "class Node:\n",
    "    def __init__(self,data):\n",
    "        self.data=data\n",
    "        self.left=None\n",
    "        self.right=None\n",
    "\n",
    "def find_height(root):\n",
    "    '''\n",
    "          Description: \n",
    "                this function is find the height of binary tree\n",
    "          Parameters: \n",
    "                root: particular root \n",
    "          Return : \n",
    "                None\n",
    "    '''\n",
    "    if root is None:\n",
    "        return -1\n",
    "    left_height=find_height(root.left)\n",
    "    right_height=find_height(root.right)\n",
    "    return 1+max(left_height,right_height)\n",
    "\n",
    "\n",
    "def main():\n",
    "    root=Node(1)\n",
    "    root.left=Node(2)\n",
    "    root.right=Node(3)\n",
    "    root.left.left=Node(4)\n",
    "    root.left.right=Node(5)\n",
    "\n",
    "    print(\"Height of the tree is:\",find_height(root))\n",
    "\n",
    "\n",
    "if __name__==\"__main__\":\n",
    "    main()\n",
    "    "
   ]
  },
  {
   "cell_type": "markdown",
   "metadata": {},
   "source": [
    "2.Check Binary tree is balanced or not"
   ]
  },
  {
   "cell_type": "code",
   "execution_count": 5,
   "metadata": {},
   "outputs": [
    {
     "name": "stdout",
     "output_type": "stream",
     "text": [
      "The binary is not balanced\n"
     ]
    }
   ],
   "source": [
    "class Node:\n",
    "    def __init__(self,value=0,left=None,right=None):\n",
    "        self.value=value\n",
    "        self.left=left\n",
    "        self.right=right\n",
    "\n",
    "\n",
    "def check_height(root):\n",
    "    '''\n",
    "          Description: \n",
    "                this function is function is check the height of tree \n",
    "          Parameters: \n",
    "                root: particular root \n",
    "          Return : \n",
    "                None\n",
    "    '''\n",
    "    if root is None:\n",
    "        return 0\n",
    "    \n",
    "    left_height= check_height(root.left)\n",
    "    if left_height == -1:\n",
    "        return -1\n",
    "    \n",
    "    right_heigt= check_height(root.right)\n",
    "    if right_heigt == -1:\n",
    "        return -1\n",
    "    \n",
    "    if abs(left_height - right_heigt)>1:\n",
    "        return -1\n",
    "    \n",
    "    return 1 + max(left_height,right_heigt)\n",
    "\n",
    "def is_balanced(root):\n",
    "    '''\n",
    "          Description: \n",
    "                this function is function is check tree is balanced or not \n",
    "          Parameters: \n",
    "                root: particular root \n",
    "          Return : \n",
    "                None\n",
    "    '''\n",
    "    return check_height(root) !=-1\n",
    "\n",
    "\n",
    "def main():\n",
    "    root=Node(1)\n",
    "    root.left=Node(2)\n",
    "    root.right=Node(3)\n",
    "    root.left.left=Node(4)\n",
    "    root.left.right=Node(5)\n",
    "    root.left.left.left=Node(6)\n",
    "\n",
    "    if is_balanced(root):\n",
    "        print(\"The binary tree is balanced\")\n",
    "\n",
    "    else:\n",
    "        print(\"The binary is not balanced\")\n",
    "\n",
    "\n",
    "if __name__==\"__main__\":\n",
    "    main()"
   ]
  }
 ],
 "metadata": {
  "kernelspec": {
   "display_name": "Python 3",
   "language": "python",
   "name": "python3"
  },
  "language_info": {
   "codemirror_mode": {
    "name": "ipython",
    "version": 3
   },
   "file_extension": ".py",
   "mimetype": "text/x-python",
   "name": "python",
   "nbconvert_exporter": "python",
   "pygments_lexer": "ipython3",
   "version": "3.10.4"
  }
 },
 "nbformat": 4,
 "nbformat_minor": 2
}
