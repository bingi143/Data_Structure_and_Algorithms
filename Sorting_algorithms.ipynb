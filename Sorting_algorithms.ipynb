{
 "cells": [
  {
   "cell_type": "markdown",
   "metadata": {},
   "source": [
    "Sorting Algorithms"
   ]
  },
  {
   "cell_type": "markdown",
   "metadata": {},
   "source": [
    "'''<br>\n",
    "\n",
    "@Author: Venkatesh <br>\n",
    "@Date: 2024-09-06 18:00:30 <br>\n",
    "@Last Modified by: Venkatesh <br>\n",
    "@Last Modified time: 2024-09-06\n",
    "18:00:30 <br>\n",
    "@Title : Programs on sorting algorithms  <br>\n",
    "\n",
    "''' "
   ]
  },
  {
   "cell_type": "markdown",
   "metadata": {},
   "source": [
    "1.Selection sort"
   ]
  },
  {
   "cell_type": "code",
   "execution_count": 30,
   "metadata": {},
   "outputs": [
    {
     "name": "stdout",
     "output_type": "stream",
     "text": [
      "Original Array: [4, 12, 43, 19, 1, 11]\n",
      "sorted array: [1, 4, 11, 12, 19, 43]\n"
     ]
    }
   ],
   "source": [
    "def selection_sort(array_sample):\n",
    "    '''\n",
    "          Description: \n",
    "                this function is sorting a array in selection sort\n",
    "          Parameters: \n",
    "                array_sample: a list of elements\n",
    "          Return : \n",
    "                None\n",
    "    '''\n",
    "    for item_1 in range(len(array_sample)):\n",
    "        min_idex = item_1\n",
    "\n",
    "        for item_2 in range(item_1+1,len(array_sample)):\n",
    "            if array_sample[item_2] < array_sample[min_idex]:\n",
    "                min_idex=item_2\n",
    "\n",
    "        array_sample[item_1],array_sample[min_idex]=array_sample[min_idex],array_sample[item_1]\n",
    "                \n",
    "\n",
    "def main():\n",
    "    sample_array=[4,12,43,19,1,11]\n",
    "    print(\"Original Array:\",sample_array)\n",
    "    selection_sort(sample_array)\n",
    "    print(\"sorted array:\",sample_array)\n",
    "\n",
    "\n",
    "if __name__==\"__main__\":\n",
    "    main()\n",
    "\n"
   ]
  },
  {
   "cell_type": "markdown",
   "metadata": {},
   "source": [
    "2.Bubble sort"
   ]
  },
  {
   "cell_type": "code",
   "execution_count": 31,
   "metadata": {},
   "outputs": [
    {
     "name": "stdout",
     "output_type": "stream",
     "text": [
      "Original Array: [12, 4, 2, 14, 15, 29, 0]\n",
      "After sorting:- [0, 2, 4, 12, 14, 15, 29]\n"
     ]
    }
   ],
   "source": [
    "def bubble_sort(sample_array):\n",
    "    '''\n",
    "          Description: \n",
    "                this function is sorting a array  in bubble sort\n",
    "          Parameters: \n",
    "                sample_array: a list of elements\n",
    "          Return : \n",
    "                Returns the after sorted array\n",
    "    '''\n",
    "    for item_1 in range(len(sample_array)):\n",
    "        for item_2 in range(0,len(sample_array)-item_1-1):\n",
    "            if sample_array[item_2] > sample_array[item_2+1]:\n",
    "                sample_array[item_2],sample_array[item_2+1]=sample_array[item_2+1],sample_array[item_2]\n",
    "\n",
    "    return sample_array\n",
    "\n",
    "\n",
    "def main():\n",
    "    sample_array=[12,4,2,14,15,29,0]\n",
    "    print(\"Original Array:\",sample_array)\n",
    "    print(\"After sorting:-\",bubble_sort(sample_array))\n",
    "\n",
    "\n",
    "if __name__==\"__main__\":\n",
    "    main()"
   ]
  },
  {
   "cell_type": "markdown",
   "metadata": {},
   "source": [
    "3.Merge sort"
   ]
  },
  {
   "cell_type": "code",
   "execution_count": 32,
   "metadata": {},
   "outputs": [
    {
     "name": "stdout",
     "output_type": "stream",
     "text": [
      "Original Array: [2, 14, 12, 1, 0, 15, 16]\n",
      "After sorting: [0, 1, 2, 12, 14, 15, 16]\n"
     ]
    }
   ],
   "source": [
    "def merge_sort(sample_array):\n",
    "    '''\n",
    "          Description: \n",
    "                this function is sorting a array  in merge sort\n",
    "          Parameters: \n",
    "                sample_array: a list of elements\n",
    "          Return : \n",
    "                Returns the after sorted array\n",
    "    '''\n",
    "    if len(sample_array) > 1:\n",
    "        middle_array=len(sample_array)//2\n",
    "\n",
    "        left_array=sample_array[:middle_array]\n",
    "        right_array=sample_array[middle_array:]\n",
    "\n",
    "        merge_sort(left_array)\n",
    "        merge_sort(right_array)\n",
    "\n",
    "        i=j=k=0\n",
    "\n",
    "        while i < len(left_array) and j < len(right_array):\n",
    "            if left_array[i]<right_array[j]:\n",
    "                sample_array[k]=left_array[i]\n",
    "                i+=1\n",
    "            else:\n",
    "                sample_array[k]=right_array[j]\n",
    "                j+=1\n",
    "            k+=1\n",
    "\n",
    "\n",
    "        while i < len(left_array):\n",
    "            sample_array[k]=left_array[i]\n",
    "            i+=1\n",
    "            k+=1\n",
    "\n",
    "        while j < len(right_array):\n",
    "            sample_array[k]=right_array[j]\n",
    "            j+=1\n",
    "            k+=1\n",
    "\n",
    "    return sample_array\n",
    "\n",
    "\n",
    "def main():\n",
    "    sample_array=[2,14,12,1,0,15,16]\n",
    "    print(\"Original Array:\",sample_array)\n",
    "    print(\"After sorting:\",merge_sort(sample_array))\n",
    "\n",
    "\n",
    "if __name__==\"__main__\":\n",
    "    main()"
   ]
  },
  {
   "cell_type": "markdown",
   "metadata": {},
   "source": [
    "4. Quick sort "
   ]
  },
  {
   "cell_type": "code",
   "execution_count": 35,
   "metadata": {},
   "outputs": [
    {
     "name": "stdout",
     "output_type": "stream",
     "text": [
      "Original Array: [2, 14, 12, 1, 0, 15, 16]\n",
      "After sorting: [0, 1, 2, 12, 14, 15, 16]\n"
     ]
    }
   ],
   "source": [
    "def quick_sort(sample_array,start_index,end_index):\n",
    "    '''\n",
    "          Description: \n",
    "                this function is sorting a array  in quick sort\n",
    "          Parameters: \n",
    "                sample_array[]: a list of elements\n",
    "                start_index(int): index starting position\n",
    "                end_index(int): end index position\n",
    "          Return : \n",
    "                Returns the after sorted array\n",
    "    '''\n",
    "    if start_index >= end_index:\n",
    "        return\n",
    "    i,j=start_index,end_index\n",
    "    pivot=sample_array[(start_index+end_index)//2]\n",
    "\n",
    "    while i<=j:\n",
    "        while sample_array[i]<pivot:\n",
    "            i+=1\n",
    "        while sample_array[j]>pivot:\n",
    "            j-=1\n",
    "\n",
    "        if i<=j:\n",
    "            sample_array[i],sample_array[j]=sample_array[j],sample_array[i]\n",
    "            i+=1\n",
    "            j-=1\n",
    "\n",
    "    quick_sort(sample_array,start_index,j)\n",
    "    quick_sort(sample_array,i,end_index)\n",
    "\n",
    "\n",
    "def main():\n",
    "    sample_array=[2,14,12,1,0,15,16]\n",
    "    print(\"Original Array:\",sample_array)\n",
    "    quick_sort(sample_array,0,len(sample_array)-1)\n",
    "    print(\"After sorting:\",sample_array)\n",
    "\n",
    "\n",
    "if __name__==\"__main__\":\n",
    "    main()\n"
   ]
  }
 ],
 "metadata": {
  "kernelspec": {
   "display_name": "Python 3",
   "language": "python",
   "name": "python3"
  },
  "language_info": {
   "codemirror_mode": {
    "name": "ipython",
    "version": 3
   },
   "file_extension": ".py",
   "mimetype": "text/x-python",
   "name": "python",
   "nbconvert_exporter": "python",
   "pygments_lexer": "ipython3",
   "version": "3.10.4"
  }
 },
 "nbformat": 4,
 "nbformat_minor": 2
}
