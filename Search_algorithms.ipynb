{
 "cells": [
  {
   "cell_type": "markdown",
   "metadata": {},
   "source": [
    "             Searching algorithms"
   ]
  },
  {
   "cell_type": "markdown",
   "metadata": {},
   "source": [
    "'''<br>\n",
    "\n",
    "@Author: Venkatesh <br>\n",
    "@Date: 2024-09-06 18:00:30 <br>\n",
    "@Last Modified by: Venkatesh <br>\n",
    "@Last Modified time: 2024-09-06\n",
    "18:00:30 <br>\n",
    "@Title : Programs on searching algorithms  <br>\n",
    "\n",
    "''' "
   ]
  },
  {
   "cell_type": "markdown",
   "metadata": {},
   "source": [
    "1. Binary search "
   ]
  },
  {
   "cell_type": "code",
   "execution_count": 3,
   "metadata": {},
   "outputs": [
    {
     "name": "stdout",
     "output_type": "stream",
     "text": [
      "target found at : 6\n"
     ]
    }
   ],
   "source": [
    "def binary_search(sample_array,target):\n",
    "    '''\n",
    "          Description: \n",
    "                this function is searching a particular item\n",
    "          Parameters: \n",
    "                array_sample[]: a list of elements\n",
    "                target: a item which \n",
    "\n",
    "          Return : \n",
    "                None\n",
    "    '''\n",
    "    low = 0\n",
    "    high = len(sample_array)-1\n",
    "\n",
    "    while low <= high:\n",
    "        middle_value=(low+high)//2\n",
    "        if sample_array[middle_value] == target:\n",
    "            return middle_value\n",
    "        elif sample_array[middle_value] < target:\n",
    "            low=middle_value+1\n",
    "\n",
    "        else:\n",
    "            high=middle_value-1\n",
    "\n",
    "    return -1\n",
    "\n",
    "\n",
    "def main():\n",
    "    sample_array=[2,3,5,6,7,8,10,13]\n",
    "    target=10\n",
    "    print(\"target found at :\",binary_search(sample_array,target))\n",
    "\n",
    "\n",
    "if __name__==\"__main__\":\n",
    "    main()\n",
    "\n"
   ]
  },
  {
   "cell_type": "markdown",
   "metadata": {},
   "source": [
    "2. Breadth First search algorithm"
   ]
  },
  {
   "cell_type": "code",
   "execution_count": null,
   "metadata": {},
   "outputs": [],
   "source": []
  }
 ],
 "metadata": {
  "kernelspec": {
   "display_name": "Python 3",
   "language": "python",
   "name": "python3"
  },
  "language_info": {
   "codemirror_mode": {
    "name": "ipython",
    "version": 3
   },
   "file_extension": ".py",
   "mimetype": "text/x-python",
   "name": "python",
   "nbconvert_exporter": "python",
   "pygments_lexer": "ipython3",
   "version": "3.10.4"
  }
 },
 "nbformat": 4,
 "nbformat_minor": 2
}
