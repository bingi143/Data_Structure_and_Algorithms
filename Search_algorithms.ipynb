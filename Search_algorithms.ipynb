{
 "cells": [
  {
   "cell_type": "markdown",
   "metadata": {},
   "source": [
    "             Searching algorithms"
   ]
  },
  {
   "cell_type": "markdown",
   "metadata": {},
   "source": [
    "'''<br>\n",
    "\n",
    "@Author: Venkatesh <br>\n",
    "@Date: 2024-09-06 18:00:30 <br>\n",
    "@Last Modified by: Venkatesh <br>\n",
    "@Last Modified time: 2024-09-06\n",
    "18:00:30 <br>\n",
    "@Title : Programs on searching algorithms  <br>\n",
    "\n",
    "''' "
   ]
  },
  {
   "cell_type": "markdown",
   "metadata": {},
   "source": [
    "1. Binary search "
   ]
  },
  {
   "cell_type": "code",
   "execution_count": 3,
   "metadata": {},
   "outputs": [
    {
     "name": "stdout",
     "output_type": "stream",
     "text": [
      "target found at : 6\n"
     ]
    }
   ],
   "source": [
    "def binary_search(sample_array,target):\n",
    "    '''\n",
    "          Description: \n",
    "                this function is searching a particular item\n",
    "          Parameters: \n",
    "                array_sample[]: a list of elements\n",
    "                target: a item which \n",
    "\n",
    "          Return : \n",
    "                None\n",
    "    '''\n",
    "    low = 0\n",
    "    high = len(sample_array)-1\n",
    "\n",
    "    while low <= high:\n",
    "        middle_value=(low+high)//2\n",
    "        if sample_array[middle_value] == target:\n",
    "            return middle_value\n",
    "        elif sample_array[middle_value] < target:\n",
    "            low=middle_value+1\n",
    "\n",
    "        else:\n",
    "            high=middle_value-1\n",
    "\n",
    "    return -1\n",
    "\n",
    "\n",
    "def main():\n",
    "    sample_array=[2,3,5,6,7,8,10,13]\n",
    "    target=10\n",
    "    print(\"target found at :\",binary_search(sample_array,target))\n",
    "\n",
    "\n",
    "if __name__==\"__main__\":\n",
    "    main()\n",
    "\n"
   ]
  },
  {
   "cell_type": "markdown",
   "metadata": {},
   "source": [
    "2. Breadth First search algorithm"
   ]
  },
  {
   "cell_type": "code",
   "execution_count": 4,
   "metadata": {},
   "outputs": [
    {
     "name": "stdout",
     "output_type": "stream",
     "text": [
      "BFS Traversal Order: Item C found!\n"
     ]
    }
   ],
   "source": [
    "def bfs(graph, start, target):\n",
    "    '''\n",
    "          Description: \n",
    "                this function is searching a particular item\n",
    "          Parameters: \n",
    "                start: staring item \n",
    "                target: searching item\n",
    "          Return : \n",
    "                None\n",
    "    '''\n",
    "    visited = []\n",
    "    queue = [start]\n",
    "\n",
    "    while queue:\n",
    "        node = queue.pop(0)\n",
    "        if node not in visited:\n",
    "            visited.append(node)\n",
    "\n",
    "            if node == target:\n",
    "                return f\"Item {target} found!\"\n",
    "\n",
    "            for neighbor in graph[node]:\n",
    "                if neighbor not in visited and neighbor not in queue:\n",
    "                    queue.append(neighbor)\n",
    "    \n",
    "    return f\"Item {target} not found.\"\n",
    "\n",
    "def main():\n",
    "    graph = {\n",
    "        'A': ['B', 'C'],\n",
    "        'B': ['A', 'D', 'E'],\n",
    "        'C': ['A', 'F'],\n",
    "        'D': ['B'],\n",
    "        'E': ['B', 'F'],\n",
    "        'F': ['C', 'E']\n",
    "        }\n",
    "\n",
    "    bfs_result = bfs(graph, 'A','C')\n",
    "    print(\"BFS Traversal Order:\", bfs_result)\n",
    "\n",
    "\n",
    "if __name__==\"__main__\":\n",
    "    main()\n"
   ]
  },
  {
   "cell_type": "markdown",
   "metadata": {},
   "source": [
    "3.Dept First Search (DFS)"
   ]
  },
  {
   "cell_type": "code",
   "execution_count": 5,
   "metadata": {},
   "outputs": [
    {
     "name": "stdout",
     "output_type": "stream",
     "text": [
      "Item E found!\n"
     ]
    }
   ],
   "source": [
    "def dfs_search(graph, start, target, visited=None):\n",
    "    if visited is None:\n",
    "        visited = []\n",
    "\n",
    "    visited.append(start)\n",
    "\n",
    "    if start == target:\n",
    "        return f\"Item {target} found!\"\n",
    "\n",
    "    for neighbor in graph[start]:\n",
    "        if neighbor not in visited:\n",
    "            result = dfs_search(graph, neighbor, target, visited)\n",
    "            if result:\n",
    "                return result\n",
    "\n",
    "    return None\n",
    "\n",
    "\n",
    "def main():\n",
    "    graph = {\n",
    "        'A': ['B', 'C'],\n",
    "        'B': ['A', 'D', 'E'],\n",
    "        'C': ['A', 'F'],\n",
    "        'D': ['B'],\n",
    "        'E': ['B', 'F'],\n",
    "        'F': ['C', 'E']\n",
    "        }\n",
    "    result = dfs_search(graph, 'A', 'E')\n",
    "    if result:\n",
    "        print(result)\n",
    "    else:\n",
    "        print(\"Item not found.\")\n",
    "\n",
    "\n",
    "if __name__==\"__main__\":\n",
    "    main()\n"
   ]
  }
 ],
 "metadata": {
  "kernelspec": {
   "display_name": "Python 3",
   "language": "python",
   "name": "python3"
  },
  "language_info": {
   "codemirror_mode": {
    "name": "ipython",
    "version": 3
   },
   "file_extension": ".py",
   "mimetype": "text/x-python",
   "name": "python",
   "nbconvert_exporter": "python",
   "pygments_lexer": "ipython3",
   "version": "3.10.4"
  }
 },
 "nbformat": 4,
 "nbformat_minor": 2
}
